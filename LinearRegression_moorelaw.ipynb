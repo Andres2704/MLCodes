{
  "nbformat": 4,
  "nbformat_minor": 0,
  "metadata": {
    "colab": {
      "name": "TF2 Linear reg.ipynb",
      "provenance": []
    },
    "kernelspec": {
      "name": "python3",
      "display_name": "Python 3"
    },
    "language_info": {
      "name": "python"
    }
  },
  "cells": [
    {
      "cell_type": "code",
      "metadata": {
        "id": "KRcVMDrxB32-"
      },
      "source": [
        "# Importando as bib necessárias\n",
        "import tensorflow as tf\n",
        "import numpy as np\n",
        "import matplotlib.pyplot as plt\n",
        "import pandas as pd"
      ],
      "execution_count": null,
      "outputs": []
    },
    {
      "cell_type": "code",
      "metadata": {
        "colab": {
          "base_uri": "https://localhost:8080/"
        },
        "id": "xKcsJ9hqFr7g",
        "outputId": "dd7f20a2-97ed-49b2-81ab-082e04d40435"
      },
      "source": [
        "# Importando os dados\n",
        "!wget https://raw.githubusercontent.com/lazyprogrammer/machine_learning_examples/master/tf2.0/moore.csv"
      ],
      "execution_count": null,
      "outputs": [
        {
          "output_type": "stream",
          "text": [
            "--2021-04-12 17:21:11--  https://raw.githubusercontent.com/lazyprogrammer/machine_learning_examples/master/tf2.0/moore.csv\n",
            "Resolving raw.githubusercontent.com (raw.githubusercontent.com)... 185.199.108.133, 185.199.109.133, 185.199.111.133, ...\n",
            "Connecting to raw.githubusercontent.com (raw.githubusercontent.com)|185.199.108.133|:443... connected.\n",
            "HTTP request sent, awaiting response... 200 OK\n",
            "Length: 2302 (2.2K) [text/plain]\n",
            "Saving to: ‘moore.csv’\n",
            "\n",
            "\rmoore.csv             0%[                    ]       0  --.-KB/s               \rmoore.csv           100%[===================>]   2.25K  --.-KB/s    in 0s      \n",
            "\n",
            "2021-04-12 17:21:11 (50.2 MB/s) - ‘moore.csv’ saved [2302/2302]\n",
            "\n"
          ],
          "name": "stdout"
        }
      ]
    },
    {
      "cell_type": "code",
      "metadata": {
        "colab": {
          "base_uri": "https://localhost:8080/"
        },
        "id": "wNrKcfJ0GYa1",
        "outputId": "f7692603-9f94-48bb-ca91-808b0723b2ba"
      },
      "source": [
        "# Analisando os dados\n",
        "!head moore.csv"
      ],
      "execution_count": null,
      "outputs": [
        {
          "output_type": "stream",
          "text": [
            "1971,2300\n",
            "1972,3500\n",
            "1973,2500\n",
            "1973,2500\n",
            "1974,4100\n",
            "1974,4500\n",
            "1974,8000\n",
            "1975,3510\n",
            "1976,5000\n",
            "1976,8500\n"
          ],
          "name": "stdout"
        }
      ]
    },
    {
      "cell_type": "code",
      "metadata": {
        "id": "2XAbKgGnGKTB"
      },
      "source": [
        "# Carregando os dados e salvando em data\n",
        "data = pd.read_csv('moore.csv', header=None).values\n",
        "X = data[:,0].reshape(-1,1) # Tornando os dados em 2D de tamanho N x D, neste caso D=1 e N = 162\n",
        "y = data[:,1]"
      ],
      "execution_count": null,
      "outputs": []
    },
    {
      "cell_type": "code",
      "metadata": {
        "id": "6MCCIthHGvI9"
      },
      "source": [
        "X_mean = np.mean(X)\n",
        "X = X - X_mean # Os dados vao de 1970 a 2020 (números grandes e longe do zero), assim, é feito esse pré processamento\n",
        "# Nao normalizamos para nao perder a informaçao dos dados"
      ],
      "execution_count": null,
      "outputs": []
    },
    {
      "cell_type": "code",
      "metadata": {
        "colab": {
          "base_uri": "https://localhost:8080/",
          "height": 293
        },
        "id": "aIoG_qerHPnf",
        "outputId": "8abdf9be-4715-42cc-f6bf-f9712bdb6dc4"
      },
      "source": [
        "plt.scatter(X,y)"
      ],
      "execution_count": null,
      "outputs": [
        {
          "output_type": "execute_result",
          "data": {
            "text/plain": [
              "<matplotlib.collections.PathCollection at 0x7f29dd837e10>"
            ]
          },
          "metadata": {
            "tags": []
          },
          "execution_count": 37
        },
        {
          "output_type": "display_data",
          "data": {
            "image/png": "[encoded data removed]",
            "text/plain": [
              "<Figure size 432x288 with 1 Axes>"
            ]
          },
          "metadata": {
            "tags": [],
            "needs_background": "light"
          }
        }
      ]
    },
    {
      "cell_type": "code",
      "metadata": {
        "colab": {
          "base_uri": "https://localhost:8080/",
          "height": 282
        },
        "id": "XOF_JpjaHVmQ",
        "outputId": "a0e626cb-3535-48ba-9669-34084f2d98cf"
      },
      "source": [
        "# Por ser um modelo exponencial, para usar REGLIN temos que tomar o log de y\n",
        "y = np.log(y)\n",
        "plt.scatter(X,y)"
      ],
      "execution_count": null,
      "outputs": [
        {
          "output_type": "execute_result",
          "data": {
            "text/plain": [
              "<matplotlib.collections.PathCollection at 0x7f29dd89b290>"
            ]
          },
          "metadata": {
            "tags": []
          },
          "execution_count": 38
        },
        {
          "output_type": "display_data",
          "data": {
            "image/png": "[encoded data removed]",
            "text/plain": [
              "<Figure size 432x288 with 1 Axes>"
            ]
          },
          "metadata": {
            "tags": [],
            "needs_background": "light"
          }
        }
      ]
    },
    {
      "cell_type": "code",
      "metadata": {
        "id": "ZIzge_RIHgx9"
      },
      "source": [
        "# Declarando o modelos e suas camadas\n",
        "model = tf.keras.models.Sequential([\n",
        "  tf.keras.layers.Input(1), # D = 1\n",
        "  tf.keras.layers.Dense(1)  # Problemas de regressao (sem funcao de ativaçao)\n",
        "])\n",
        "# Ajustando o modelo para o aprendizado(treino)\n",
        "model.compile(optimizer = tf.keras.optimizers.SGD(0.001, 0.9), loss = 'mse')"
      ],
      "execution_count": null,
      "outputs": []
    },
    {
      "cell_type": "code",
      "metadata": {
        "colab": {
          "base_uri": "https://localhost:8080/",
          "height": 1000
        },
        "id": "_w0xRed_HxnT",
        "outputId": "ff5e282e-785c-43da-87d2-c557045925b3"
      },
      "source": [
        "# Programando nossa taxa de aprendizado (teoria do gradiente descendente!!)\n",
        "def schedule(epoch, lr):\n",
        "  if epoch >= 50:\n",
        "    return 0.0001\n",
        "  else:\n",
        "    return 0.001\n",
        "\n",
        "scheduler = tf.keras.callbacks.LearningRateScheduler(schedule)\n",
        "\n",
        "# Treinando o modelo\n",
        "r = model.fit(X, y, epochs = 200, callbacks=[scheduler])\n",
        "\n",
        "# Plotando o erro\n",
        "plt.plot(r.history['loss'])"
      ],
      "execution_count": null,
      "outputs": [
        {
          "output_type": "stream",
          "text": [
            "Epoch 1/200\n",
            "6/6 [==============================] - 0s 2ms/step - loss: 533.0433\n",
            "Epoch 2/200\n",
            "6/6 [==============================] - 0s 4ms/step - loss: 499.8310\n",
            "Epoch 3/200\n",
            "6/6 [==============================] - 0s 2ms/step - loss: 775.7547\n",
            "Epoch 4/200\n",
            "6/6 [==============================] - 0s 2ms/step - loss: 286.9487\n",
            "Epoch 5/200\n",
            "6/6 [==============================] - 0s 2ms/step - loss: 211.8914\n",
            "Epoch 6/200\n",
            "6/6 [==============================] - 0s 2ms/step - loss: 150.6823\n",
            "Epoch 7/200\n",
            "6/6 [==============================] - 0s 2ms/step - loss: 105.4145\n",
            "Epoch 8/200\n",
            "6/6 [==============================] - 0s 3ms/step - loss: 68.9592\n",
            "Epoch 9/200\n",
            "6/6 [==============================] - 0s 3ms/step - loss: 44.0161\n",
            "Epoch 10/200\n",
            "6/6 [==============================] - 0s 2ms/step - loss: 34.1360\n",
            "Epoch 11/200\n",
            "6/6 [==============================] - 0s 2ms/step - loss: 22.0448\n",
            "Epoch 12/200\n",
            "6/6 [==============================] - 0s 3ms/step - loss: 19.2373\n",
            "Epoch 13/200\n",
            "6/6 [==============================] - 0s 3ms/step - loss: 12.2495\n",
            "Epoch 14/200\n",
            "6/6 [==============================] - 0s 3ms/step - loss: 8.8547\n",
            "Epoch 15/200\n",
            "6/6 [==============================] - 0s 2ms/step - loss: 6.7512\n",
            "Epoch 16/200\n",
            "6/6 [==============================] - 0s 2ms/step - loss: 5.0700\n",
            "Epoch 17/200\n",
            "6/6 [==============================] - 0s 2ms/step - loss: 4.5121\n",
            "Epoch 18/200\n",
            "6/6 [==============================] - 0s 2ms/step - loss: 2.9662\n",
            "Epoch 19/200\n",
            "6/6 [==============================] - 0s 2ms/step - loss: 2.4646\n",
            "Epoch 20/200\n",
            "6/6 [==============================] - 0s 2ms/step - loss: 2.7918\n",
            "Epoch 21/200\n",
            "6/6 [==============================] - 0s 2ms/step - loss: 1.7417\n",
            "Epoch 22/200\n",
            "6/6 [==============================] - 0s 3ms/step - loss: 2.2830\n",
            "Epoch 23/200\n",
            "6/6 [==============================] - 0s 2ms/step - loss: 1.4008\n",
            "Epoch 24/200\n",
            "6/6 [==============================] - 0s 2ms/step - loss: 1.2573\n",
            "Epoch 25/200\n",
            "6/6 [==============================] - 0s 2ms/step - loss: 1.1049\n",
            "Epoch 26/200\n",
            "6/6 [==============================] - 0s 2ms/step - loss: 1.3776\n",
            "Epoch 27/200\n",
            "6/6 [==============================] - 0s 3ms/step - loss: 1.3836\n",
            "Epoch 28/200\n",
            "6/6 [==============================] - 0s 2ms/step - loss: 1.4395\n",
            "Epoch 29/200\n",
            "6/6 [==============================] - 0s 2ms/step - loss: 1.2549\n",
            "Epoch 30/200\n",
            "6/6 [==============================] - 0s 2ms/step - loss: 1.1829\n",
            "Epoch 31/200\n",
            "6/6 [==============================] - 0s 2ms/step - loss: 1.0401\n",
            "Epoch 32/200\n",
            "6/6 [==============================] - 0s 2ms/step - loss: 0.9897\n",
            "Epoch 33/200\n",
            "6/6 [==============================] - 0s 3ms/step - loss: 0.9936\n",
            "Epoch 34/200\n",
            "6/6 [==============================] - 0s 3ms/step - loss: 0.9194\n",
            "Epoch 35/200\n",
            "6/6 [==============================] - 0s 3ms/step - loss: 0.8045\n",
            "Epoch 36/200\n",
            "6/6 [==============================] - 0s 2ms/step - loss: 1.0646\n",
            "Epoch 37/200\n",
            "6/6 [==============================] - 0s 2ms/step - loss: 0.8800\n",
            "Epoch 38/200\n",
            "6/6 [==============================] - 0s 4ms/step - loss: 0.9572\n",
            "Epoch 39/200\n",
            "6/6 [==============================] - 0s 2ms/step - loss: 1.4518\n",
            "Epoch 40/200\n",
            "6/6 [==============================] - 0s 3ms/step - loss: 1.4861\n",
            "Epoch 41/200\n",
            "6/6 [==============================] - 0s 2ms/step - loss: 1.2239\n",
            "Epoch 42/200\n",
            "6/6 [==============================] - 0s 2ms/step - loss: 1.3290\n",
            "Epoch 43/200\n",
            "6/6 [==============================] - 0s 2ms/step - loss: 1.2620\n",
            "Epoch 44/200\n",
            "6/6 [==============================] - 0s 2ms/step - loss: 1.2132\n",
            "Epoch 45/200\n",
            "6/6 [==============================] - 0s 2ms/step - loss: 0.8823\n",
            "Epoch 46/200\n",
            "6/6 [==============================] - 0s 2ms/step - loss: 0.9538\n",
            "Epoch 47/200\n",
            "6/6 [==============================] - 0s 3ms/step - loss: 0.8537\n",
            "Epoch 48/200\n",
            "6/6 [==============================] - 0s 2ms/step - loss: 0.8302\n",
            "Epoch 49/200\n",
            "6/6 [==============================] - 0s 3ms/step - loss: 0.9503\n",
            "Epoch 50/200\n",
            "6/6 [==============================] - 0s 2ms/step - loss: 0.8160\n",
            "Epoch 51/200\n",
            "6/6 [==============================] - 0s 2ms/step - loss: 1.0095\n",
            "Epoch 52/200\n",
            "6/6 [==============================] - 0s 2ms/step - loss: 1.0139\n",
            "Epoch 53/200\n",
            "6/6 [==============================] - 0s 3ms/step - loss: 1.0096\n",
            "Epoch 54/200\n",
            "6/6 [==============================] - 0s 2ms/step - loss: 0.7467\n",
            "Epoch 55/200\n",
            "6/6 [==============================] - 0s 3ms/step - loss: 1.0668\n",
            "Epoch 56/200\n",
            "6/6 [==============================] - 0s 3ms/step - loss: 0.8796\n",
            "Epoch 57/200\n",
            "6/6 [==============================] - 0s 3ms/step - loss: 0.8095\n",
            "Epoch 58/200\n",
            "6/6 [==============================] - 0s 4ms/step - loss: 0.8421\n",
            "Epoch 59/200\n",
            "6/6 [==============================] - 0s 2ms/step - loss: 1.0468\n",
            "Epoch 60/200\n",
            "6/6 [==============================] - 0s 2ms/step - loss: 0.7668\n",
            "Epoch 61/200\n",
            "6/6 [==============================] - 0s 3ms/step - loss: 1.0264\n",
            "Epoch 62/200\n",
            "6/6 [==============================] - 0s 2ms/step - loss: 0.8363\n",
            "Epoch 63/200\n",
            "6/6 [==============================] - 0s 3ms/step - loss: 0.8532\n",
            "Epoch 64/200\n",
            "6/6 [==============================] - 0s 3ms/step - loss: 1.0214\n",
            "Epoch 65/200\n",
            "6/6 [==============================] - 0s 3ms/step - loss: 0.8779\n",
            "Epoch 66/200\n",
            "6/6 [==============================] - 0s 3ms/step - loss: 0.9025\n",
            "Epoch 67/200\n",
            "6/6 [==============================] - 0s 3ms/step - loss: 0.8284\n",
            "Epoch 68/200\n",
            "6/6 [==============================] - 0s 2ms/step - loss: 1.0376\n",
            "Epoch 69/200\n",
            "6/6 [==============================] - 0s 2ms/step - loss: 0.9127\n",
            "Epoch 70/200\n",
            "6/6 [==============================] - 0s 3ms/step - loss: 0.8497\n",
            "Epoch 71/200\n",
            "6/6 [==============================] - 0s 2ms/step - loss: 0.9432\n",
            "Epoch 72/200\n",
            "6/6 [==============================] - 0s 2ms/step - loss: 0.9042\n",
            "Epoch 73/200\n",
            "6/6 [==============================] - 0s 2ms/step - loss: 0.7139\n",
            "Epoch 74/200\n",
            "6/6 [==============================] - 0s 2ms/step - loss: 0.7469\n",
            "Epoch 75/200\n",
            "6/6 [==============================] - 0s 2ms/step - loss: 0.9578\n",
            "Epoch 76/200\n",
            "6/6 [==============================] - 0s 2ms/step - loss: 0.7818\n",
            "Epoch 77/200\n",
            "6/6 [==============================] - 0s 2ms/step - loss: 0.6909\n",
            "Epoch 78/200\n",
            "6/6 [==============================] - 0s 3ms/step - loss: 0.8047\n",
            "Epoch 79/200\n",
            "6/6 [==============================] - 0s 2ms/step - loss: 0.9426\n",
            "Epoch 80/200\n",
            "6/6 [==============================] - 0s 2ms/step - loss: 0.8893\n",
            "Epoch 81/200\n",
            "6/6 [==============================] - 0s 2ms/step - loss: 0.8908\n",
            "Epoch 82/200\n",
            "6/6 [==============================] - 0s 2ms/step - loss: 0.7960\n",
            "Epoch 83/200\n",
            "6/6 [==============================] - 0s 2ms/step - loss: 0.8365\n",
            "Epoch 84/200\n",
            "6/6 [==============================] - 0s 3ms/step - loss: 0.7377\n",
            "Epoch 85/200\n",
            "6/6 [==============================] - 0s 2ms/step - loss: 0.9062\n",
            "Epoch 86/200\n",
            "6/6 [==============================] - 0s 3ms/step - loss: 0.9532\n",
            "Epoch 87/200\n",
            "6/6 [==============================] - 0s 2ms/step - loss: 0.8512\n",
            "Epoch 88/200\n",
            "6/6 [==============================] - 0s 2ms/step - loss: 0.8965\n",
            "Epoch 89/200\n",
            "6/6 [==============================] - 0s 3ms/step - loss: 0.7714\n",
            "Epoch 90/200\n",
            "6/6 [==============================] - 0s 2ms/step - loss: 0.8030\n",
            "Epoch 91/200\n",
            "6/6 [==============================] - 0s 2ms/step - loss: 0.7514\n",
            "Epoch 92/200\n",
            "6/6 [==============================] - 0s 2ms/step - loss: 0.8785\n",
            "Epoch 93/200\n",
            "6/6 [==============================] - 0s 2ms/step - loss: 0.9279\n",
            "Epoch 94/200\n",
            "6/6 [==============================] - 0s 2ms/step - loss: 0.8926\n",
            "Epoch 95/200\n",
            "6/6 [==============================] - 0s 2ms/step - loss: 0.7512\n",
            "Epoch 96/200\n",
            "6/6 [==============================] - 0s 3ms/step - loss: 0.8402\n",
            "Epoch 97/200\n",
            "6/6 [==============================] - 0s 3ms/step - loss: 0.9475\n",
            "Epoch 98/200\n",
            "6/6 [==============================] - 0s 2ms/step - loss: 0.8773\n",
            "Epoch 99/200\n",
            "6/6 [==============================] - 0s 3ms/step - loss: 0.9217\n",
            "Epoch 100/200\n",
            "6/6 [==============================] - 0s 2ms/step - loss: 0.8016\n",
            "Epoch 101/200\n",
            "6/6 [==============================] - 0s 2ms/step - loss: 0.7808\n",
            "Epoch 102/200\n",
            "6/6 [==============================] - 0s 4ms/step - loss: 0.8214\n",
            "Epoch 103/200\n",
            "6/6 [==============================] - 0s 4ms/step - loss: 0.8249\n",
            "Epoch 104/200\n",
            "6/6 [==============================] - 0s 3ms/step - loss: 0.7986\n",
            "Epoch 105/200\n",
            "6/6 [==============================] - 0s 3ms/step - loss: 0.8397\n",
            "Epoch 106/200\n",
            "6/6 [==============================] - 0s 3ms/step - loss: 0.9276\n",
            "Epoch 107/200\n",
            "6/6 [==============================] - 0s 3ms/step - loss: 0.8317\n",
            "Epoch 108/200\n",
            "6/6 [==============================] - 0s 2ms/step - loss: 0.8210\n",
            "Epoch 109/200\n",
            "6/6 [==============================] - 0s 2ms/step - loss: 0.8747\n",
            "Epoch 110/200\n",
            "6/6 [==============================] - 0s 2ms/step - loss: 0.9235\n",
            "Epoch 111/200\n",
            "6/6 [==============================] - 0s 2ms/step - loss: 0.8570\n",
            "Epoch 112/200\n",
            "6/6 [==============================] - 0s 2ms/step - loss: 0.7585\n",
            "Epoch 113/200\n",
            "6/6 [==============================] - 0s 3ms/step - loss: 0.8691\n",
            "Epoch 114/200\n",
            "6/6 [==============================] - 0s 2ms/step - loss: 0.8965\n",
            "Epoch 115/200\n",
            "6/6 [==============================] - 0s 4ms/step - loss: 0.9572\n",
            "Epoch 116/200\n",
            "6/6 [==============================] - 0s 3ms/step - loss: 1.1204\n",
            "Epoch 117/200\n",
            "6/6 [==============================] - 0s 3ms/step - loss: 0.9570\n",
            "Epoch 118/200\n",
            "6/6 [==============================] - 0s 2ms/step - loss: 1.0225\n",
            "Epoch 119/200\n",
            "6/6 [==============================] - 0s 2ms/step - loss: 0.7408\n",
            "Epoch 120/200\n",
            "6/6 [==============================] - 0s 3ms/step - loss: 0.9400\n",
            "Epoch 121/200\n",
            "6/6 [==============================] - 0s 3ms/step - loss: 0.7076\n",
            "Epoch 122/200\n",
            "6/6 [==============================] - 0s 3ms/step - loss: 1.0215\n",
            "Epoch 123/200\n",
            "6/6 [==============================] - 0s 2ms/step - loss: 0.7551\n",
            "Epoch 124/200\n",
            "6/6 [==============================] - 0s 4ms/step - loss: 0.8369\n",
            "Epoch 125/200\n",
            "6/6 [==============================] - 0s 3ms/step - loss: 0.9155\n",
            "Epoch 126/200\n",
            "6/6 [==============================] - 0s 3ms/step - loss: 0.8043\n",
            "Epoch 127/200\n",
            "6/6 [==============================] - 0s 5ms/step - loss: 0.9658\n",
            "Epoch 128/200\n",
            "6/6 [==============================] - 0s 3ms/step - loss: 0.8597\n",
            "Epoch 129/200\n",
            "6/6 [==============================] - 0s 2ms/step - loss: 0.8266\n",
            "Epoch 130/200\n",
            "6/6 [==============================] - 0s 2ms/step - loss: 0.8472\n",
            "Epoch 131/200\n",
            "6/6 [==============================] - 0s 2ms/step - loss: 0.9960\n",
            "Epoch 132/200\n",
            "6/6 [==============================] - 0s 3ms/step - loss: 1.0827\n",
            "Epoch 133/200\n",
            "6/6 [==============================] - 0s 3ms/step - loss: 0.8601\n",
            "Epoch 134/200\n",
            "6/6 [==============================] - 0s 2ms/step - loss: 0.8148\n",
            "Epoch 135/200\n",
            "6/6 [==============================] - 0s 2ms/step - loss: 0.8318\n",
            "Epoch 136/200\n",
            "6/6 [==============================] - 0s 3ms/step - loss: 0.7272\n",
            "Epoch 137/200\n",
            "6/6 [==============================] - 0s 3ms/step - loss: 0.8378\n",
            "Epoch 138/200\n",
            "6/6 [==============================] - 0s 3ms/step - loss: 0.8546\n",
            "Epoch 139/200\n",
            "6/6 [==============================] - 0s 2ms/step - loss: 0.8231\n",
            "Epoch 140/200\n",
            "6/6 [==============================] - 0s 3ms/step - loss: 0.8773\n",
            "Epoch 141/200\n",
            "6/6 [==============================] - 0s 3ms/step - loss: 0.9915\n",
            "Epoch 142/200\n",
            "6/6 [==============================] - 0s 2ms/step - loss: 0.9471\n",
            "Epoch 143/200\n",
            "6/6 [==============================] - 0s 2ms/step - loss: 0.8871\n",
            "Epoch 144/200\n",
            "6/6 [==============================] - 0s 3ms/step - loss: 0.8365\n",
            "Epoch 145/200\n",
            "6/6 [==============================] - 0s 3ms/step - loss: 0.9480\n",
            "Epoch 146/200\n",
            "6/6 [==============================] - 0s 3ms/step - loss: 0.8260\n",
            "Epoch 147/200\n",
            "6/6 [==============================] - 0s 2ms/step - loss: 0.7853\n",
            "Epoch 148/200\n",
            "6/6 [==============================] - 0s 2ms/step - loss: 0.9180\n",
            "Epoch 149/200\n",
            "6/6 [==============================] - 0s 3ms/step - loss: 1.1178\n",
            "Epoch 150/200\n",
            "6/6 [==============================] - 0s 3ms/step - loss: 0.9607\n",
            "Epoch 151/200\n",
            "6/6 [==============================] - 0s 3ms/step - loss: 0.7454\n",
            "Epoch 152/200\n",
            "6/6 [==============================] - 0s 3ms/step - loss: 0.9700\n",
            "Epoch 153/200\n",
            "6/6 [==============================] - 0s 2ms/step - loss: 0.9403\n",
            "Epoch 154/200\n",
            "6/6 [==============================] - 0s 2ms/step - loss: 0.9132\n",
            "Epoch 155/200\n",
            "6/6 [==============================] - 0s 3ms/step - loss: 0.8178\n",
            "Epoch 156/200\n",
            "6/6 [==============================] - 0s 3ms/step - loss: 0.8154\n",
            "Epoch 157/200\n",
            "6/6 [==============================] - 0s 2ms/step - loss: 1.1512\n",
            "Epoch 158/200\n",
            "6/6 [==============================] - 0s 2ms/step - loss: 0.9989\n",
            "Epoch 159/200\n",
            "6/6 [==============================] - 0s 3ms/step - loss: 0.9640\n",
            "Epoch 160/200\n",
            "6/6 [==============================] - 0s 2ms/step - loss: 0.9637\n",
            "Epoch 161/200\n",
            "6/6 [==============================] - 0s 2ms/step - loss: 0.7833\n",
            "Epoch 162/200\n",
            "6/6 [==============================] - 0s 3ms/step - loss: 0.8684\n",
            "Epoch 163/200\n",
            "6/6 [==============================] - 0s 3ms/step - loss: 0.9600\n",
            "Epoch 164/200\n",
            "6/6 [==============================] - 0s 3ms/step - loss: 0.7861\n",
            "Epoch 165/200\n",
            "6/6 [==============================] - 0s 2ms/step - loss: 0.6738\n",
            "Epoch 166/200\n",
            "6/6 [==============================] - 0s 3ms/step - loss: 0.8960\n",
            "Epoch 167/200\n",
            "6/6 [==============================] - 0s 3ms/step - loss: 0.8849\n",
            "Epoch 168/200\n",
            "6/6 [==============================] - 0s 3ms/step - loss: 0.8437\n",
            "Epoch 169/200\n",
            "6/6 [==============================] - 0s 3ms/step - loss: 0.7800\n",
            "Epoch 170/200\n",
            "6/6 [==============================] - 0s 4ms/step - loss: 0.7703\n",
            "Epoch 171/200\n",
            "6/6 [==============================] - 0s 3ms/step - loss: 0.8670\n",
            "Epoch 172/200\n",
            "6/6 [==============================] - 0s 3ms/step - loss: 0.7853\n",
            "Epoch 173/200\n",
            "6/6 [==============================] - 0s 2ms/step - loss: 0.8136\n",
            "Epoch 174/200\n",
            "6/6 [==============================] - 0s 3ms/step - loss: 0.8435\n",
            "Epoch 175/200\n",
            "6/6 [==============================] - 0s 2ms/step - loss: 0.8477\n",
            "Epoch 176/200\n",
            "6/6 [==============================] - 0s 2ms/step - loss: 0.9298\n",
            "Epoch 177/200\n",
            "6/6 [==============================] - 0s 2ms/step - loss: 0.8217\n",
            "Epoch 178/200\n",
            "6/6 [==============================] - 0s 4ms/step - loss: 0.6790\n",
            "Epoch 179/200\n",
            "6/6 [==============================] - 0s 3ms/step - loss: 0.8434\n",
            "Epoch 180/200\n",
            "6/6 [==============================] - 0s 3ms/step - loss: 0.8429\n",
            "Epoch 181/200\n",
            "6/6 [==============================] - 0s 2ms/step - loss: 0.8141\n",
            "Epoch 182/200\n",
            "6/6 [==============================] - 0s 3ms/step - loss: 0.9154\n",
            "Epoch 183/200\n",
            "6/6 [==============================] - 0s 3ms/step - loss: 0.7958\n",
            "Epoch 184/200\n",
            "6/6 [==============================] - 0s 2ms/step - loss: 0.8934\n",
            "Epoch 185/200\n",
            "6/6 [==============================] - 0s 2ms/step - loss: 0.8200\n",
            "Epoch 186/200\n",
            "6/6 [==============================] - 0s 2ms/step - loss: 0.9250\n",
            "Epoch 187/200\n",
            "6/6 [==============================] - 0s 2ms/step - loss: 0.8171\n",
            "Epoch 188/200\n",
            "6/6 [==============================] - 0s 2ms/step - loss: 0.7736\n",
            "Epoch 189/200\n",
            "6/6 [==============================] - 0s 2ms/step - loss: 0.6555\n",
            "Epoch 190/200\n",
            "6/6 [==============================] - 0s 2ms/step - loss: 0.8415\n",
            "Epoch 191/200\n",
            "6/6 [==============================] - 0s 2ms/step - loss: 0.7645\n",
            "Epoch 192/200\n",
            "6/6 [==============================] - 0s 2ms/step - loss: 0.8996\n",
            "Epoch 193/200\n",
            "6/6 [==============================] - 0s 2ms/step - loss: 0.7497\n",
            "Epoch 194/200\n",
            "6/6 [==============================] - 0s 2ms/step - loss: 0.9483\n",
            "Epoch 195/200\n",
            "6/6 [==============================] - 0s 2ms/step - loss: 0.9944\n",
            "Epoch 196/200\n",
            "6/6 [==============================] - 0s 2ms/step - loss: 1.0327\n",
            "Epoch 197/200\n",
            "6/6 [==============================] - 0s 2ms/step - loss: 0.7142\n",
            "Epoch 198/200\n",
            "6/6 [==============================] - 0s 5ms/step - loss: 0.7989\n",
            "Epoch 199/200\n",
            "6/6 [==============================] - 0s 3ms/step - loss: 1.0799\n",
            "Epoch 200/200\n",
            "6/6 [==============================] - 0s 3ms/step - loss: 0.8641\n"
          ],
          "name": "stdout"
        },
        {
          "output_type": "execute_result",
          "data": {
            "text/plain": [
              "[<matplotlib.lines.Line2D at 0x7f29dcd37cd0>]"
            ]
          },
          "metadata": {
            "tags": []
          },
          "execution_count": 42
        },
        {
          "output_type": "display_data",
          "data": {
            "image/png": "[encoded data removed]",
            "text/plain": [
              "<Figure size 432x288 with 1 Axes>"
            ]
          },
          "metadata": {
            "tags": [],
            "needs_background": "light"
          }
        }
      ]
    },
    {
      "cell_type": "code",
      "metadata": {
        "colab": {
          "base_uri": "https://localhost:8080/"
        },
        "id": "R7Un-S5WI7Au",
        "outputId": "1f5911df-aacf-4930-8322-f09bb2cb69ac"
      },
      "source": [
        "# Obtendo os coeficientes angulares (wT) e lineares dos dados (b)\n",
        "print(model.layers)\n",
        "print(model.layers[0].get_weights()) # a = 0.34021783 | b = 17.78569"
      ],
      "execution_count": null,
      "outputs": [
        {
          "output_type": "stream",
          "text": [
            "[<tensorflow.python.keras.layers.core.Dense object at 0x7f29dd73d490>]\n",
            "[array([[0.34572467]], dtype=float32), array([17.772259], dtype=float32)]\n"
          ],
          "name": "stdout"
        }
      ]
    },
    {
      "cell_type": "code",
      "metadata": {
        "colab": {
          "base_uri": "https://localhost:8080/",
          "height": 282
        },
        "id": "wW6zMXJsJmKh",
        "outputId": "9826df23-1e15-4bf1-a04d-11cc3d31f9c2"
      },
      "source": [
        "a = model.layers[0].get_weights()[0][0,0]\n",
        "b = model.layers[0].get_weights()[1][0]\n",
        "y_hat = X*a + b\n",
        "plt.scatter(X,y)\n",
        "plt.plot(X,y_hat, 'r')"
      ],
      "execution_count": null,
      "outputs": [
        {
          "output_type": "execute_result",
          "data": {
            "text/plain": [
              "[<matplotlib.lines.Line2D at 0x7f29dcadfed0>]"
            ]
          },
          "metadata": {
            "tags": []
          },
          "execution_count": 49
        },
        {
          "output_type": "display_data",
          "data": {
            "image/png": "[encoded data removed]",
            "text/plain": [
              "<Figure size 432x288 with 1 Axes>"
            ]
          },
          "metadata": {
            "tags": [],
            "needs_background": "light"
          }
        }
      ]
    },
    {
      "cell_type": "markdown",
      "metadata": {
        "id": "RMDTuOeQWoqe"
      },
      "source": [
        "## Fazendo previsoes"
      ]
    },
    {
      "cell_type": "code",
      "metadata": {
        "colab": {
          "base_uri": "https://localhost:8080/",
          "height": 282
        },
        "id": "eR6RTMz-KDGI",
        "outputId": "47427dc2-8f9b-4cb3-f9f2-719ba1a0981a"
      },
      "source": [
        "# Comumente é utilizado .predict assim como no scikit learn\n",
        "Y_hat = model.predict(X).flatten()\n",
        "plt.scatter(X, y)\n",
        "plt.plot(X, Y_hat, 'r')"
      ],
      "execution_count": null,
      "outputs": [
        {
          "output_type": "execute_result",
          "data": {
            "text/plain": [
              "[<matplotlib.lines.Line2D at 0x7f29dc129e10>]"
            ]
          },
          "metadata": {
            "tags": []
          },
          "execution_count": 60
        },
        {
          "output_type": "display_data",
          "data": {
            "image/png": "[encoded data removed]",
            "text/plain": [
              "<Figure size 432x288 with 1 Axes>"
            ]
          },
          "metadata": {
            "tags": [],
            "needs_background": "light"
          }
        }
      ]
    },
    {
      "cell_type": "code",
      "metadata": {
        "colab": {
          "base_uri": "https://localhost:8080/"
        },
        "id": "D33tGopJYlnt",
        "outputId": "f7a149d9-f719-4a84-c684-c34ee8cfc95d"
      },
      "source": [
        "# Obtendo os pesos (agora de uma forma mais manual) e o bias \n",
        "w, b = model.layers[0].get_weights()\n",
        "\n",
        "# Voltando ao estado original (antes fizemos a mudança)\n",
        "X = X.reshape(-1,1)\n",
        "\n",
        "# Calculando o valor de Y_hat\n",
        "Y_hat2 = (X.dot(w) + b).flatten() # (N x 1)·(1 x 1) + (1) --> (N x 1)\n",
        "\n",
        "# Para pontos flutuantes nao use ==\n",
        "np.allclose(Y_hat, Y_hat2)"
      ],
      "execution_count": null,
      "outputs": [
        {
          "output_type": "execute_result",
          "data": {
            "text/plain": [
              "True"
            ]
          },
          "metadata": {
            "tags": []
          },
          "execution_count": 63
        }
      ]
    },
    {
      "cell_type": "markdown",
      "metadata": {
        "id": "98yq8E9VaW_Q"
      },
      "source": [
        "## Salvando o modelo"
      ]
    },
    {
      "cell_type": "code",
      "metadata": {
        "id": "86jxbO-NaYq8"
      },
      "source": [
        ""
      ],
      "execution_count": null,
      "outputs": []
    }
  ]
}